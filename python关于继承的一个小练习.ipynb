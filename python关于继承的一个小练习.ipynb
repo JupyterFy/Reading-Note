{
 "cells": [
  {
   "cell_type": "markdown",
   "metadata": {},
   "source": [
    "## 实验题目"
   ]
  },
  {
   "cell_type": "code",
   "execution_count": 2,
   "metadata": {},
   "outputs": [
    {
     "name": "stdout",
     "output_type": "stream",
     "text": [
      "1\n",
      "10\n",
      "10\n",
      "100\n"
     ]
    }
   ],
   "source": [
    "class Test1:              #  父类\n",
    "    y = 1000\n",
    "    def __init__(self):\n",
    "        self.x = 100\n",
    "        self.z = 100\n",
    "        \n",
    "    def echo(self):\n",
    "        print(self.x)\n",
    "        \n",
    "class Test2(Test1):            #  子类\n",
    "    y = 10                     #  子类的类属性\n",
    "    def __init__(self):\n",
    "        Test1.__init__(self)   #  因为是继承的父类，所以构造函数也要继承父类的构造函数\n",
    "        self.x = 1             #  子类的实例属性\n",
    "     \n",
    "    def echo(self):\n",
    "        Test1.echo(self)\n",
    "        print(self.y)\n",
    "        \n",
    "test = Test2()\n",
    "test.echo()\n",
    "\n",
    "print(test.y)\n",
    "print(test.z)"
   ]
  },
  {
   "cell_type": "markdown",
   "metadata": {},
   "source": [
    "### 剖析题目"
   ]
  },
  {
   "cell_type": "code",
   "execution_count": 13,
   "metadata": {},
   "outputs": [
    {
     "name": "stdout",
     "output_type": "stream",
     "text": [
      "111\n",
      "222\n",
      "父类的self.x =  100\n",
      "333\n",
      "444\n",
      "父类的self.x =  100\n"
     ]
    }
   ],
   "source": [
    "class Test1:              #  父类\n",
    "    y = 1000\n",
    "    def __init__(self):\n",
    "        self.x = 100\n",
    "        self.z = 100\n",
    "        print(\"父类的self.x = \", self.x)    \n",
    "    def echo(self):\n",
    "        print(\"开始执行第二步：Test1的echo函数\")\n",
    "        print(self.x)\n",
    "        \n",
    "class Test2(Test1):            #  子类\n",
    "    y = 10                     #  子类的类属性\n",
    "    print(111)\n",
    "    def __init__(self):\n",
    "        print(222)\n",
    "        Test1.__init__(self)   #  因为是继承的父类，所以构造函数也要继承父类的构造函数\n",
    "        print(333)\n",
    "        self.x = 1             #  子类的实例属性\n",
    "        print(444)\n",
    "     \n",
    "    def echo(self):\n",
    "        print(\"开始执行第一步：Test2的echo函数\")\n",
    "        Test1.echo(self)\n",
    "        print(self.y)\n",
    "        \n",
    "        \n",
    "test = Test2()\n",
    "\n",
    "test1 = Test1()\n"
   ]
  },
  {
   "cell_type": "markdown",
   "metadata": {},
   "source": [
    "#### <font color=#0099ff  size=3>子类将父类的实例方法给重写了</font>\n"
   ]
  }
 ],
 "metadata": {
  "kernelspec": {
   "display_name": "Python 3",
   "language": "python",
   "name": "python3"
  },
  "language_info": {
   "codemirror_mode": {
    "name": "ipython",
    "version": 3
   },
   "file_extension": ".py",
   "mimetype": "text/x-python",
   "name": "python",
   "nbconvert_exporter": "python",
   "pygments_lexer": "ipython3",
   "version": "3.6.1"
  }
 },
 "nbformat": 4,
 "nbformat_minor": 2
}
